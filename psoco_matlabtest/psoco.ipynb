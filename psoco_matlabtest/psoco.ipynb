{
 "cells": [
  {
   "cell_type": "code",
   "execution_count": 1,
   "metadata": {},
   "outputs": [],
   "source": [
    "import psoco\n",
    "import math "
   ]
  },
  {
   "cell_type": "code",
   "execution_count": 2,
   "metadata": {},
   "outputs": [
    {
     "name": "stderr",
     "output_type": "stream",
     "text": [
      "<>:18: SyntaxWarning: invalid escape sequence '\\s'\n",
      "<>:18: SyntaxWarning: invalid escape sequence '\\s'\n",
      "/tmp/ipykernel_1889363/1591691521.py:18: SyntaxWarning: invalid escape sequence '\\s'\n",
      "  '''Easy Problem can use \\sqrt{k}'''\n"
     ]
    }
   ],
   "source": [
    "\n",
    "def objective(x):\n",
    "    '''create objectives based on inputs x as 2D array'''\n",
    "    return (x[:, 0] - 2) ** 2 + (x[:, 1] - 1) ** 2 \n",
    "\n",
    "def constraints1(x):\n",
    "    '''create constraint1 based on inputs x as 2D array'''\n",
    "    return x[:, 0] - 2 * x[:, 1] + 1 \n",
    "\n",
    "def constraints2(x):\n",
    "    '''create constraint2 based on inputs x as 2D array'''\n",
    "    return - (x[:, 0] - 2 * x[:, 1] + 1)\n",
    "\n",
    "def constraints3(x):\n",
    "    '''create constraint3 based on inputs x as 2D array'''\n",
    "    return x[:, 0] ** 2 / 4 + x[:, 1] ** 2 - 1\n",
    "\n",
    "def new_penalty_func(k):\n",
    "    '''Easy Problem can use \\sqrt{k}'''\n",
    "    return math.sqrt(k)\n",
    "    \n"
   ]
  },
  {
   "cell_type": "code",
   "execution_count": 3,
   "metadata": {},
   "outputs": [],
   "source": [
    "constraints = [constraints1, constraints2, constraints3]\n",
    "num_runs = 10\n",
    "# random parameters lead to variations, so run several time to get mean\n",
    "for _ in range(num_runs):\n",
    "    pso = psoco.PSOCO(sol_size=2, fitness=objective, constraints=constraints)\n",
    "    pso.h = new_penalty_func\n",
    "    pso.init_Population(low=0, high=1) # x并集的上下限，默认为0和1\n",
    "    pso.solve()\n",
    "    # best solutions\n",
    "    x = pso.gbest.reshape((1, -1))\n",
    "    # best fit which is not objective\n",
    "    fit = pso.fit"
   ]
  }
 ],
 "metadata": {
  "kernelspec": {
   "display_name": "pywake",
   "language": "python",
   "name": "python3"
  },
  "language_info": {
   "codemirror_mode": {
    "name": "ipython",
    "version": 3
   },
   "file_extension": ".py",
   "mimetype": "text/x-python",
   "name": "python",
   "nbconvert_exporter": "python",
   "pygments_lexer": "ipython3",
   "version": "3.12.9"
  }
 },
 "nbformat": 4,
 "nbformat_minor": 2
}
